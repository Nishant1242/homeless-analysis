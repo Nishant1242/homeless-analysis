{
 "cells": [
  {
   "cell_type": "markdown",
   "id": "765f0f96",
   "metadata": {},
   "source": [
    "Describe the Structure and Granularity of Each Dataset"
   ]
  },
  {
   "cell_type": "markdown",
   "id": "0e6a2923",
   "metadata": {},
   "source": [
    "Import Required Libraries"
   ]
  },
  {
   "cell_type": "code",
   "execution_count": 1,
   "id": "dbcf0c2d",
   "metadata": {},
   "outputs": [],
   "source": [
    "# --------------------------------------------------\n",
    "# Q1–Q3 | Data Understanding, Cleaning, and Alignment\n",
    "# --------------------------------------------------\n",
    "import pandas as pd\n",
    "import numpy as np\n"
   ]
  },
  {
   "cell_type": "markdown",
   "id": "25f544c9",
   "metadata": {},
   "source": [
    "Load All CSV Files"
   ]
  },
  {
   "cell_type": "code",
   "execution_count": 2,
   "id": "ead3ed55",
   "metadata": {},
   "outputs": [],
   "source": [
    "# ----------------------\n",
    "# Load raw homelessness data (CY and 12-month views)\n",
    "# ----------------------\n",
    "\n",
    "# Age\n",
    "age_cy = pd.read_csv(\"../data/cy_age.csv\")\n",
    "age_12mo = pd.read_csv(\"../data/12mo_age.csv\")\n",
    "\n",
    "# Race\n",
    "race_cy = pd.read_csv(\"../data/cy_race.csv\")\n",
    "race_12mo = pd.read_csv(\"../data/12mo_race.csv\")\n",
    "\n",
    "# Gender\n",
    "gender_cy = pd.read_csv(\"../data/cy_gender.csv\")\n",
    "gender_12mo = pd.read_csv(\"../data/12mo_gender.csv\")\n"
   ]
  },
  {
   "cell_type": "markdown",
   "id": "ab02b685",
   "metadata": {},
   "source": [
    "Describe Dataset Structures (Q1)"
   ]
  },
  {
   "cell_type": "code",
   "execution_count": 3,
   "id": "7ab5b969",
   "metadata": {},
   "outputs": [
    {
     "name": "stdout",
     "output_type": "stream",
     "text": [
      "📁 Age - CY\n",
      "Shape: (2958, 5)\n",
      "Columns: ['CALENDAR_YEAR', 'LOCATION_ID', 'LOCATION', 'AGE_GROUP_PUBLIC', 'EXPERIENCING_HOMELESSNESS_CNT']\n",
      "\n",
      "📁 Age - 12mo\n",
      "Shape: (374, 5)\n",
      "Columns: ['CALENDAR_YEAR', 'LOCATION_ID', 'LOCATION', 'AGE_GROUP_PUBLIC', 'EXPERIENCING_HOMELESSNESS_CNT']\n",
      "\n",
      "📁 Race - CY\n",
      "Shape: (4362, 5)\n",
      "Columns: ['CALENDAR_YEAR', 'LOCATION_ID', 'RACE_ETHNICITY', 'ALONE_OR_IN_COMBINATION', 'CNT']\n",
      "\n",
      "📁 Race - 12mo\n",
      "Shape: (630, 5)\n",
      "Columns: ['CALENDAR_YEAR', 'LOCATION_ID', 'GROUPING', 'SUB', 'EXPERIENCING_HOMELESSNESS_CNT']\n",
      "\n",
      "📁 Gender - CY\n",
      "Shape: (1738, 4)\n",
      "Columns: ['CALENDAR_YEAR', 'LOCATION_ID', 'GENDER', 'EXPERIENCING_HOMELESSNESS_CNT']\n",
      "\n",
      "📁 Gender - 12mo\n",
      "Shape: (238, 5)\n",
      "Columns: ['CALENDAR_YEAR', 'LOCATION_ID', 'LOCATION', 'GENDER', 'EXPERIENCING_HOMELESSNESS_CNT']\n",
      "\n"
     ]
    }
   ],
   "source": [
    "# ----------------------\n",
    "# Describe basic structure and dimensions\n",
    "# ----------------------\n",
    "\n",
    "def describe_dataset(name, df):\n",
    "    print(f\"📁 {name}\")\n",
    "    print(f\"Shape: {df.shape}\")\n",
    "    print(f\"Columns: {list(df.columns)}\\n\")\n",
    "\n",
    "describe_dataset(\"Age - CY\", age_cy)\n",
    "describe_dataset(\"Age - 12mo\", age_12mo)\n",
    "describe_dataset(\"Race - CY\", race_cy)\n",
    "describe_dataset(\"Race - 12mo\", race_12mo)\n",
    "describe_dataset(\"Gender - CY\", gender_cy)\n",
    "describe_dataset(\"Gender - 12mo\", gender_12mo)\n"
   ]
  },
  {
   "cell_type": "markdown",
   "id": "22cd5b52",
   "metadata": {},
   "source": [
    " Data Dictionary Summary"
   ]
  },
  {
   "cell_type": "markdown",
   "id": "5e0e14cf",
   "metadata": {},
   "source": [
    "## ✅ Q1. Dataset Structure & Granularity\n",
    "\n",
    "All datasets track homelessness data across California counties using a common structure:\n",
    "\n",
    "| Dataset    | Geographic Unit          | Time Unit     | Demographic Segments                         | Key Fields                           |\n",
    "| ---------- | ------------------------ | ------------- | -------------------------------------------- | ------------------------------------ |\n",
    "| **Age**    | LOCATION_ID (CoC region) | CALENDAR_YEAR | AGE_GROUP_PUBLIC (Under 18, 18–24, ..., 65+) | EXPERIENCING_HOMELESSNESS_CNT        |\n",
    "| **Race**   | LOCATION_ID              | CALENDAR_YEAR | RACE, ALONE_OR_IN_COMBINATION                | CNT or EXPERIENCING_HOMELESSNESS_CNT |\n",
    "| **Gender** | LOCATION_ID              | CALENDAR_YEAR | GENDER                                       | EXPERIENCING_HOMELESSNESS_CNT        |\n",
    "\n",
    "- Time span: 2017–2023\n",
    "- Granularity: County × Year × [Age / Race / Gender]\n",
    "- 12mo versions represent rolling 12-month estimates.\n"
   ]
  },
  {
   "cell_type": "markdown",
   "id": "6e3aa039",
   "metadata": {},
   "source": [
    "## 🧼 Q2: Data Cleaning Functions\n",
    "These functions standardize columns and prepare data for merging.\n"
   ]
  },
  {
   "cell_type": "code",
   "execution_count": 4,
   "id": "64c9f23f",
   "metadata": {},
   "outputs": [],
   "source": [
    "# ----------------------\n",
    "# Q2: Cleaning Functions\n",
    "# ----------------------\n",
    "\n",
    "def clean_age(df: pd.DataFrame) -> pd.DataFrame:\n",
    "    df = df.copy()\n",
    "    df.columns = df.columns.str.upper().str.strip()\n",
    "    df = df.rename(columns={'EXPERIENCING_HOMELESSNESS_CNT': 'HOMELESS_COUNT'})\n",
    "    return df\n",
    "\n",
    "def clean_race(df: pd.DataFrame, is_cy: bool = True) -> pd.DataFrame:\n",
    "    df = df.copy()\n",
    "    df.columns = df.columns.str.upper().str.strip()\n",
    "    if is_cy:\n",
    "        df = df.rename(columns={\n",
    "            'RACE_ETHNICITY': 'RACE',\n",
    "            'ALONE_OR_IN_COMBINATION': 'RACE_COMBO',\n",
    "            'CNT': 'HOMELESS_COUNT'\n",
    "        })\n",
    "    else:\n",
    "        df = df.rename(columns={\n",
    "            'GROUPING': 'RACE',\n",
    "            'SUB': 'RACE_COMBO',\n",
    "            'EXPERIENCING_HOMELESSNESS_CNT': 'HOMELESS_COUNT'\n",
    "        })\n",
    "    return df\n",
    "\n",
    "def clean_gender(df: pd.DataFrame) -> pd.DataFrame:\n",
    "    df = df.copy()\n",
    "    df.columns = df.columns.str.upper().str.strip()\n",
    "    df = df.rename(columns={'EXPERIENCING_HOMELESSNESS_CNT': 'HOMELESS_COUNT'})\n",
    "    return df\n"
   ]
  },
  {
   "cell_type": "markdown",
   "id": "79ec5b1a",
   "metadata": {},
   "source": [
    "Apply Cleaning (Q2)"
   ]
  },
  {
   "cell_type": "code",
   "execution_count": 5,
   "id": "0e051c4b",
   "metadata": {},
   "outputs": [],
   "source": [
    "# ----------------------\n",
    "# Apply cleaning to all datasets\n",
    "# ----------------------\n",
    "\n",
    "# Age\n",
    "age_cy_clean = clean_age(age_cy)\n",
    "age_12mo_clean = clean_age(age_12mo)\n",
    "\n",
    "# Race\n",
    "race_cy_clean = clean_race(race_cy, is_cy=True)\n",
    "race_12mo_clean = clean_race(race_12mo, is_cy=False)\n",
    "\n",
    "# Gender\n",
    "gender_cy_clean = clean_gender(gender_cy)\n",
    "gender_12mo_clean = clean_gender(gender_12mo)\n"
   ]
  },
  {
   "cell_type": "code",
   "execution_count": 6,
   "id": "7610f18e",
   "metadata": {},
   "outputs": [
    {
     "data": {
      "text/html": [
       "<div>\n",
       "<style scoped>\n",
       "    .dataframe tbody tr th:only-of-type {\n",
       "        vertical-align: middle;\n",
       "    }\n",
       "\n",
       "    .dataframe tbody tr th {\n",
       "        vertical-align: top;\n",
       "    }\n",
       "\n",
       "    .dataframe thead th {\n",
       "        text-align: right;\n",
       "    }\n",
       "</style>\n",
       "<table border=\"1\" class=\"dataframe\">\n",
       "  <thead>\n",
       "    <tr style=\"text-align: right;\">\n",
       "      <th></th>\n",
       "      <th>CALENDAR_YEAR</th>\n",
       "      <th>LOCATION_ID</th>\n",
       "      <th>LOCATION</th>\n",
       "      <th>AGE_GROUP_PUBLIC</th>\n",
       "      <th>HOMELESS_COUNT</th>\n",
       "    </tr>\n",
       "  </thead>\n",
       "  <tbody>\n",
       "    <tr>\n",
       "      <th>0</th>\n",
       "      <td>2017</td>\n",
       "      <td>All</td>\n",
       "      <td>California</td>\n",
       "      <td>18-24</td>\n",
       "      <td>16275</td>\n",
       "    </tr>\n",
       "    <tr>\n",
       "      <th>1</th>\n",
       "      <td>2017</td>\n",
       "      <td>All</td>\n",
       "      <td>California</td>\n",
       "      <td>25-34</td>\n",
       "      <td>27785</td>\n",
       "    </tr>\n",
       "    <tr>\n",
       "      <th>2</th>\n",
       "      <td>2017</td>\n",
       "      <td>All</td>\n",
       "      <td>California</td>\n",
       "      <td>35-44</td>\n",
       "      <td>25006</td>\n",
       "    </tr>\n",
       "    <tr>\n",
       "      <th>3</th>\n",
       "      <td>2017</td>\n",
       "      <td>All</td>\n",
       "      <td>California</td>\n",
       "      <td>45-54</td>\n",
       "      <td>26669</td>\n",
       "    </tr>\n",
       "    <tr>\n",
       "      <th>4</th>\n",
       "      <td>2017</td>\n",
       "      <td>All</td>\n",
       "      <td>California</td>\n",
       "      <td>55-64</td>\n",
       "      <td>23239</td>\n",
       "    </tr>\n",
       "  </tbody>\n",
       "</table>\n",
       "</div>"
      ],
      "text/plain": [
       "   CALENDAR_YEAR LOCATION_ID    LOCATION AGE_GROUP_PUBLIC HOMELESS_COUNT\n",
       "0           2017         All  California            18-24          16275\n",
       "1           2017         All  California            25-34          27785\n",
       "2           2017         All  California            35-44          25006\n",
       "3           2017         All  California            45-54          26669\n",
       "4           2017         All  California            55-64          23239"
      ]
     },
     "execution_count": 6,
     "metadata": {},
     "output_type": "execute_result"
    }
   ],
   "source": [
    "# Show cleaned data sample\n",
    "age_cy_clean.head()\n",
    "\n"
   ]
  },
  {
   "cell_type": "markdown",
   "id": "ffd77d1b",
   "metadata": {},
   "source": [
    "## ✅ Q2. Data Cleaning & Standardization Summary\n",
    "\n",
    "All datasets were cleaned by:\n",
    "- Renaming inconsistent column names to `HOMELESS_COUNT`\n",
    "- Standardizing all column headers to uppercase\n",
    "- Preparing each DataFrame for merging and analysis\n"
   ]
  },
  {
   "cell_type": "markdown",
   "id": "0da2b6c2",
   "metadata": {},
   "source": [
    "Add Unified Identifier (Q3)"
   ]
  },
  {
   "cell_type": "code",
   "execution_count": 7,
   "id": "73e363d8",
   "metadata": {},
   "outputs": [],
   "source": [
    "# ----------------------\n",
    "# Q3: Add Unified ID for Merge Compatibility\n",
    "# ----------------------\n",
    "\n",
    "def add_unique_id(df: pd.DataFrame) -> pd.DataFrame:\n",
    "    df['UNIQUE_ID'] = df['LOCATION_ID'].astype(str) + \"_\" + df['CALENDAR_YEAR'].astype(str)\n",
    "    return df\n",
    "\n",
    "# Apply to all cleaned datasets\n",
    "age_cy_clean = add_unique_id(age_cy_clean)\n",
    "age_12mo_clean = add_unique_id(age_12mo_clean)\n",
    "race_cy_clean = add_unique_id(race_cy_clean)\n",
    "race_12mo_clean = add_unique_id(race_12mo_clean)\n",
    "gender_cy_clean = add_unique_id(gender_cy_clean)\n",
    "gender_12mo_clean = add_unique_id(gender_12mo_clean)\n"
   ]
  },
  {
   "cell_type": "markdown",
   "id": "37d2df31",
   "metadata": {},
   "source": [
    "Validation of Cleaned Outputs"
   ]
  },
  {
   "cell_type": "code",
   "execution_count": 8,
   "id": "d1d36a7a",
   "metadata": {},
   "outputs": [
    {
     "name": "stdout",
     "output_type": "stream",
     "text": [
      "\n",
      "✅ Age CY — Shape: (2958, 6)\n",
      "Sample UNIQUE_IDs: ['All_2017' 'CA-500_2017' 'CA-501_2017']\n",
      "\n",
      "✅ Race CY — Shape: (4362, 6)\n",
      "Sample UNIQUE_IDs: ['All_2017' 'CA-500_2017' 'CA-501_2017']\n",
      "\n",
      "✅ Gender CY — Shape: (1738, 5)\n",
      "Sample UNIQUE_IDs: ['All_2017' 'CA-500_2017' 'CA-501_2017']\n"
     ]
    }
   ],
   "source": [
    "# ----------------------\n",
    "# Final integrity check\n",
    "# ----------------------\n",
    "\n",
    "cleaned_datasets = {\n",
    "    \"Age CY\": age_cy_clean,\n",
    "    \"Race CY\": race_cy_clean,\n",
    "    \"Gender CY\": gender_cy_clean\n",
    "}\n",
    "\n",
    "for name, df in cleaned_datasets.items():\n",
    "    print(f\"\\n✅ {name} — Shape: {df.shape}\")\n",
    "    print(\"Sample UNIQUE_IDs:\", df['UNIQUE_ID'].dropna().unique()[:3])\n"
   ]
  },
  {
   "cell_type": "markdown",
   "id": "ed668712",
   "metadata": {},
   "source": [
    "Save All Cleaned DataFrames "
   ]
  },
  {
   "cell_type": "code",
   "execution_count": null,
   "id": "c3d2bea0",
   "metadata": {},
   "outputs": [
    {
     "name": "stdout",
     "output_type": "stream",
     "text": [
      "✅ All cleaned DataFrames saved successfully.\n"
     ]
    }
   ],
   "source": [
    "import joblib\n",
    "import os\n",
    "\n",
    "# Create a folder to store if it doesn't exist\n",
    "os.makedirs(\"../data/cleaned\", exist_ok=True)\n",
    "\n",
    "# Save Age datasets\n",
    "joblib.dump(age_cy_clean, \"../data/cleaned/age_cy_clean.pkl\")\n",
    "joblib.dump(age_12mo_clean, \"../data/cleaned/age_12mo_clean.pkl\")\n",
    "\n",
    "# Save Race datasets\n",
    "joblib.dump(race_cy_clean, \"../data/cleaned/race_cy_clean.pkl\")\n",
    "joblib.dump(race_12mo_clean, \"../data/cleaned/race_12mo_clean.pkl\")\n",
    "\n",
    "# Save Gender datasets\n",
    "joblib.dump(gender_cy_clean, \"../data/cleaned/gender_cy_clean.pkl\")\n",
    "joblib.dump(gender_12mo_clean, \"../data/cleaned/gender_12mo_clean.pkl\")\n",
    "\n",
    "print(\"✅ All cleaned DataFrames saved successfully.\")\n"
   ]
  }
 ],
 "metadata": {
  "kernelspec": {
   "display_name": "homeless_analysis",
   "language": "python",
   "name": "python3"
  },
  "language_info": {
   "codemirror_mode": {
    "name": "ipython",
    "version": 3
   },
   "file_extension": ".py",
   "mimetype": "text/x-python",
   "name": "python",
   "nbconvert_exporter": "python",
   "pygments_lexer": "ipython3",
   "version": "3.10.16"
  }
 },
 "nbformat": 4,
 "nbformat_minor": 5
}
